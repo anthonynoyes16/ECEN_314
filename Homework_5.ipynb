{
 "cells": [
  {
   "cell_type": "code",
   "execution_count": 41,
   "metadata": {},
   "outputs": [
    {
     "data": {
      "text/plain": [
       "<StemContainer object of 3 artists>"
      ]
     },
     "execution_count": 41,
     "metadata": {},
     "output_type": "execute_result"
    },
    {
     "data": {
      "image/png": "[encoded data removed]",
      "text/plain": [
       "<Figure size 432x288 with 1 Axes>"
      ]
     },
     "metadata": {
      "needs_background": "light"
     },
     "output_type": "display_data"
    }
   ],
   "source": [
    "import numpy as np\n",
    "from sympy import *\n",
    "import matplotlib.pyplot as plt\n",
    "var('alpha')\n",
    "var('R')\n",
    "alpha = 0.5\n",
    "R = 5\n",
    "h_n = [1, 0, 0, 0, 0, alpha, 0, 0, 0, 0, pow(alpha, 2), 0, 0, 0, 0, pow(alpha, 3), 0, 0, 0, 0, pow(alpha, 4), 0] \n",
    "#when n is not a multiple of R, the value is 0 because the impulse function returns 0\n",
    "_n = [0, 1, 2, 3, 4, R, 6, 7, 8, 9, 2*R, 11, 12, 13, 14, 3*R, 16, 17, 18, 19, 4*R, 21]\n",
    "plt.stem(_n, h_n) "
   ]
  },
  {
   "cell_type": "code",
   "execution_count": 42,
   "metadata": {},
   "outputs": [
    {
     "data": {
      "text/plain": [
       "<StemContainer object of 3 artists>"
      ]
     },
     "execution_count": 42,
     "metadata": {},
     "output_type": "execute_result"
    },
    {
     "data": {
      "image/png": "[encoded data removed]",
      "text/plain": [
       "<Figure size 432x288 with 1 Axes>"
      ]
     },
     "metadata": {
      "needs_background": "light"
     },
     "output_type": "display_data"
    }
   ],
   "source": [
    "h_n = []\n",
    "_n = []\n",
    "for i in range(50): \n",
    "    _n.append(i)\n",
    "    if (i % 5 == 0):\n",
    "        h_n.append(pow(alpha, i / 5))\n",
    "    else: \n",
    "        h_n.append(0)\n",
    "\n",
    "plt.stem(_n, h_n) "
   ]
  }
 ],
 "metadata": {
  "kernelspec": {
   "display_name": "Python 3.9.12 ('base')",
   "language": "python",
   "name": "python3"
  },
  "language_info": {
   "codemirror_mode": {
    "name": "ipython",
    "version": 3
   },
   "file_extension": ".py",
   "mimetype": "text/x-python",
   "name": "python",
   "nbconvert_exporter": "python",
   "pygments_lexer": "ipython3",
   "version": "3.9.12"
  },
  "orig_nbformat": 4,
  "vscode": {
   "interpreter": {
    "hash": "fb895651056e287b6ee9580a0c9fad855e632544e42d008992910789ae728ccf"
   }
  }
 },
 "nbformat": 4,
 "nbformat_minor": 2
}
